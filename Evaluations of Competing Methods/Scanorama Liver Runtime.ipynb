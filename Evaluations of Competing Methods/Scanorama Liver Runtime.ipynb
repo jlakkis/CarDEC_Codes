{
 "cells": [
  {
   "cell_type": "markdown",
   "metadata": {},
   "source": [
    "# Scanorama Liver Runtime\n",
    "\n",
    "In this notebook, we will analyze the scaleability of the Scanorama method to larger datasets. We fit Scanorama on various percentages of the Liver dataset (which contains over 100000 cells). We fit Scanorama on subsets of this data ranging from 10% up to 100% of the full liver data."
   ]
  },
  {
   "cell_type": "code",
   "execution_count": 1,
   "metadata": {},
   "outputs": [],
   "source": [
    "\"\"\"Broadly useful python packages\"\"\"\n",
    "import pandas as pd\n",
    "import os\n",
    "import numpy as np\n",
    "import pickle\n",
    "from copy import deepcopy\n",
    "from shutil import move, rmtree\n",
    "import warnings\n",
    "from memory_profiler import memory_usage\n",
    "from time import time\n",
    "\n",
    "\"\"\"Machine learning and single cell packages\"\"\"\n",
    "import sklearn.metrics as metrics\n",
    "from sklearn.metrics import adjusted_rand_score as ari, normalized_mutual_info_score as nmi\n",
    "import scanpy as sc\n",
    "from anndata import AnnData\n",
    "import seaborn as sns\n",
    "\n",
    "import scanorama"
   ]
  },
  {
   "cell_type": "code",
   "execution_count": 2,
   "metadata": {},
   "outputs": [],
   "source": [
    "\"\"\"Miscellaneous useful functions\"\"\"\n",
    "\n",
    "def read_liver_data(path, cache=True):\n",
    "    adata = sc.read_mtx(os.path.join(path, 'matrix.mtx')).T\n",
    "    genes_file = pd.read_csv(os.path.join(path, 'genes.tsv'), sep='\\t')\n",
    "    barcodes_file = pd.read_csv(os.path.join(path, 'barcodes.tsv'), sep='\\t')\n",
    "\n",
    "    adata.var.index = genes_file[\"genename\"]\n",
    "    adata.obs.index = barcodes_file[\"cellname\"]\n",
    "    adata.obs = barcodes_file\n",
    "        \n",
    "    sc.pp.filter_cells(adata, min_genes = 200)\n",
    "    mito_genes = adata.var_names.str.startswith('mt-')\n",
    "    adata.obs['percent_mito'] = np.sum(\n",
    "        adata[:, mito_genes].X, axis=1).A1 / np.sum(adata.X, axis=1).A1\n",
    "    adata.obs['n_counts'] = adata.X.sum(axis=1).A1\n",
    "    adata = adata[adata.obs['percent_mito'] < 0.2, :]\n",
    "    sc.pp.filter_genes(adata, min_cells = 30)\n",
    "\n",
    "    return adata\n",
    "\n",
    "def build_dir(dir_path):\n",
    "    subdirs = [dir_path]\n",
    "    substring = dir_path\n",
    "\n",
    "    while substring != '':\n",
    "        splt_dir = os.path.split(substring)\n",
    "        substring = splt_dir[0]\n",
    "        subdirs.append(substring)\n",
    "        \n",
    "    subdirs.pop()\n",
    "    subdirs = [x for x in subdirs if os.path.basename(x) != '..']\n",
    "\n",
    "    n = len(subdirs)\n",
    "    subdirs = [subdirs[n - 1 - x] for x in range(n)]\n",
    "    \n",
    "    for dir_ in subdirs:\n",
    "        if not os.path.isdir(dir_):\n",
    "            os.mkdir(dir_)\n",
    "            \n",
    "def run_scanorama(adata):\n",
    "    adata2 = adata.copy()\n",
    "    print(adata)\n",
    "    batches = adata2.obs['sampleid'].astype(\"category\").cat.categories.tolist()\n",
    "    alldata = {}\n",
    "    recover_id_list = []\n",
    "    for batch in batches:\n",
    "        alldata[batch] = adata2[adata2.obs['sampleid'] == batch].copy()\n",
    "    recover_id_list.append(np.where(adata.obs[\"sampleid\"] == batch)[0])\n",
    "    recover_id = np.concatenate(recover_id_list)\n",
    "\n",
    "    #convert to list of AnnData objects\n",
    "    adatas = list(alldata.values())\n",
    "\n",
    "    # run scanorama.integrate\n",
    "    corrected = scanorama.correct_scanpy(adatas, dimred = 50, return_dimred = True, verbose = False) #correct_scanpy,integrate_scanpy\n",
    "    \n",
    "def profile(frac):\n",
    "    np.random.seed(11111)\n",
    "    indices = np.random.choice(range(adata.shape[0]), size = round(frac * adata.shape[0]), replace = False)\n",
    "    tmp = adata[indices].copy()\n",
    "    \n",
    "    sc.pp.filter_genes(tmp, min_cells = 1)\n",
    "    sc.pp.normalize_per_cell(tmp)\n",
    "    sc.pp.log1p(tmp)\n",
    "    \n",
    "    start = time()\n",
    "    run = memory_usage((run_scanorama, (), {'adata': tmp}))\n",
    "    final = time() - start\n",
    "    peak_memory = max(run) - min(run)\n",
    "    stats_zscore = final, peak_memory, \"Scanorama\", int(100*frac)\n",
    "    \n",
    "    return stats_zscore"
   ]
  },
  {
   "cell_type": "markdown",
   "metadata": {},
   "source": [
    "## Figure Data"
   ]
  },
  {
   "cell_type": "code",
   "execution_count": 3,
   "metadata": {},
   "outputs": [],
   "source": [
    "build_dir(\"../Figures/liver\")\n",
    "profile_stats = {\"Time (Seconds)\": [] , \"Memory (MiB)\": [], \"Method\": [], 'Percent': []}\n",
    "profile_stats = pd.DataFrame(profile_stats)"
   ]
  },
  {
   "cell_type": "markdown",
   "metadata": {},
   "source": [
    "## Read in Data"
   ]
  },
  {
   "cell_type": "code",
   "execution_count": 4,
   "metadata": {},
   "outputs": [
    {
     "name": "stderr",
     "output_type": "stream",
     "text": [
      "/Users/jlakkis/anaconda3/envs/cardec_alternatives/lib/python3.7/site-packages/anndata/_core/anndata.py:119: ImplicitModificationWarning: Transforming to str index.\n",
      "  warnings.warn(\"Transforming to str index.\", ImplicitModificationWarning)\n",
      "Trying to set attribute `.var` of view, copying.\n"
     ]
    }
   ],
   "source": [
    "adata = read_liver_data(\"../Data/liver\", cache = True)"
   ]
  },
  {
   "cell_type": "markdown",
   "metadata": {},
   "source": [
    "## Profile Memory and Speed"
   ]
  },
  {
   "cell_type": "code",
   "execution_count": null,
   "metadata": {},
   "outputs": [
    {
     "name": "stdout",
     "output_type": "stream",
     "text": [
      "AnnData object with n_obs × n_vars = 83755 × 21521\n",
      "    obs: 'cellname', 'orig.ident', 'nCount_RNA', 'nFeature_RNA', 'sampleid', 'tissue', 'sorting', 'lineid', 'cell.labels', 'barcode', 'Time', 'Disease', 'Fact.sorting', 'Sex', 'Time2', 'n_genes', 'percent_mito', 'n_counts'\n",
      "    var: 'n_cells'\n",
      "    uns: 'log1p'\n",
      "Found 21521 genes among all datasets\n"
     ]
    }
   ],
   "source": [
    "fracs = [0.1, 0.2, 0.4, 0.6, 0.8, 1] #kernel may crash after frac = 0.6, depending on hardware\n",
    "\n",
    "n = 0\n",
    "for frac in fracs:\n",
    "    profile_stats.loc[n] = profile(frac)\n",
    "    profile_stats.to_csv(\"../Figures/liver/scanorama_profile.csv\")\n",
    "    n = n + 1"
   ]
  }
 ],
 "metadata": {
  "kernelspec": {
   "display_name": "Python [conda env:cardec_alternatives]",
   "language": "python",
   "name": "conda-env-cardec_alternatives-py"
  },
  "language_info": {
   "codemirror_mode": {
    "name": "ipython",
    "version": 3
   },
   "file_extension": ".py",
   "mimetype": "text/x-python",
   "name": "python",
   "nbconvert_exporter": "python",
   "pygments_lexer": "ipython3",
   "version": "3.7.0"
  }
 },
 "nbformat": 4,
 "nbformat_minor": 4
}
